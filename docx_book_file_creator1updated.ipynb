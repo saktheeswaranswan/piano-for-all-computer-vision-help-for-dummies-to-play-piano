{
  "nbformat": 4,
  "nbformat_minor": 0,
  "metadata": {
    "colab": {
      "provenance": [],
      "authorship_tag": "ABX9TyP2yfvhrhHYwPL302mGstiv",
      "include_colab_link": true
    },
    "kernelspec": {
      "name": "python3",
      "display_name": "Python 3"
    },
    "language_info": {
      "name": "python"
    }
  },
  "cells": [
    {
      "cell_type": "markdown",
      "metadata": {
        "id": "view-in-github",
        "colab_type": "text"
      },
      "source": [
        "<a href=\"https://colab.research.google.com/github/saktheeswaranswan/piano-for-all-computer-vision-help-for-dummies-to-play-piano/blob/main/docx_book_file_creator1updated.ipynb\" target=\"_parent\"><img src=\"https://colab.research.google.com/assets/colab-badge.svg\" alt=\"Open In Colab\"/></a>"
      ]
    },
    {
      "cell_type": "code",
      "execution_count": null,
      "metadata": {
        "id": "v8vhVJI2Kd8_"
      },
      "outputs": [],
      "source": [
        "import docx\n",
        "\n",
        "# Open the document\n",
        "doc = docx.Document('/content/sample.docx')\n",
        "\n",
        "# Extract text from the document\n",
        "text = []\n",
        "for para in doc.paragraphs:\n",
        "    text.append(para.text)\n",
        "print(\"Text:\\n\")\n",
        "print('\\n'.join(text))\n",
        "\n",
        "# Extract tables from the document\n",
        "tables = []\n",
        "for table in doc.tables:\n",
        "    for row in table.rows:\n",
        "        for cell in row.cells:\n",
        "            tables.append(cell.text)\n",
        "print(\"\\nTables:\\n\")\n",
        "print('\\n'.join(tables))\n",
        "\n",
        "# Extract images from the document\n",
        "images = []\n",
        "for element in doc.element.body:\n",
        "    if element.tag.endswith('graphic'):\n",
        "        images.append(element)\n",
        "print(\"\\nImages:\\n\")\n",
        "print(images)\n",
        "\n",
        "# Extract bullets from the document\n",
        "bullets = []\n",
        "for para in doc.paragraphs:\n",
        "    if para.style.name.startswith('List'):\n",
        "        for run in para.runs:\n",
        "            if run.text:\n",
        "                bullets.append(run.text)\n",
        "print(\"\\nBullets:\\n\")\n",
        "print('\\n'.join(bullets))\n",
        "\n",
        "# Extract header and footer information\n",
        "header = doc.sections[0].header\n",
        "footer = doc.sections[0].footer\n",
        "\n",
        "print(\"\\nHeader:\\n\")\n",
        "for paragraph in header.paragraphs:\n",
        "    print(paragraph.text)\n",
        "\n",
        "print(\"\\nFooter:\\n\")\n",
        "for paragraph in footer.paragraphs:\n",
        "    print(paragraph.text)\n",
        "\n",
        "# Extract color and font information\n",
        "colors = set()\n",
        "fonts = set()\n",
        "\n",
        "for paragraph in doc.paragraphs:\n",
        "    for run in paragraph.runs:\n",
        "        colors.add(run.font.color.rgb)\n",
        "        fonts.add(run.font.name)\n",
        "\n",
        "print(\"\\nColors:\\n\")\n",
        "print(colors)\n",
        "print(\"\\nFonts:\\n\")\n",
        "print(fonts)\n"
      ]
    },
    {
      "cell_type": "code",
      "source": [
        "!pip install python-docx\n"
      ],
      "metadata": {
        "colab": {
          "base_uri": "https://localhost:8080/"
        },
        "id": "zq_8YetINh5K",
        "outputId": "0d60f0bb-1c27-4f1a-9aa3-c33ea727a026"
      },
      "execution_count": 3,
      "outputs": [
        {
          "output_type": "stream",
          "name": "stdout",
          "text": [
            "Looking in indexes: https://pypi.org/simple, https://us-python.pkg.dev/colab-wheels/public/simple/\n",
            "Collecting python-docx\n",
            "  Downloading python-docx-0.8.11.tar.gz (5.6 MB)\n",
            "\u001b[2K     \u001b[90m━━━━━━━━━━━━━━━━━━━━━━━━━━━━━━━━━━━━━━━━\u001b[0m \u001b[32m5.6/5.6 MB\u001b[0m \u001b[31m49.4 MB/s\u001b[0m eta \u001b[36m0:00:00\u001b[0m\n",
            "\u001b[?25h  Preparing metadata (setup.py) ... \u001b[?25l\u001b[?25hdone\n",
            "Requirement already satisfied: lxml>=2.3.2 in /usr/local/lib/python3.10/dist-packages (from python-docx) (4.9.2)\n",
            "Building wheels for collected packages: python-docx\n",
            "  Building wheel for python-docx (setup.py) ... \u001b[?25l\u001b[?25hdone\n",
            "  Created wheel for python-docx: filename=python_docx-0.8.11-py3-none-any.whl size=184505 sha256=3e5cf3e14261f937c019738252fe171b46ad1a45a6c34b968dc1ea329708c011\n",
            "  Stored in directory: /root/.cache/pip/wheels/80/27/06/837436d4c3bd989b957a91679966f207bfd71d358d63a8194d\n",
            "Successfully built python-docx\n",
            "Installing collected packages: python-docx\n",
            "Successfully installed python-docx-0.8.11\n"
          ]
        }
      ]
    },
    {
      "cell_type": "code",
      "source": [
        "import csv\n",
        "import docx\n",
        "\n",
        "# Open the document\n",
        "doc = docx.Document('/content/sample.docx')\n",
        "\n",
        "# Extract text from the document\n",
        "text = []\n",
        "for para in doc.paragraphs:\n",
        "    text.append(para.text)\n",
        "\n",
        "# Extract tables from the document\n",
        "tables = []\n",
        "for table in doc.tables:\n",
        "    for row in table.rows:\n",
        "        for cell in row.cells:\n",
        "            tables.append(cell.text)\n",
        "\n",
        "# Extract images from the document\n",
        "images = []\n",
        "for element in doc.element.body:\n",
        "    if element.tag.endswith('graphic'):\n",
        "        images.append(element)\n",
        "\n",
        "# Extract bullets from the document\n",
        "bullets = []\n",
        "for para in doc.paragraphs:\n",
        "    if para.style.name.startswith('List'):\n",
        "        for run in para.runs:\n",
        "            if run.text:\n",
        "                bullets.append(run.text)\n",
        "\n",
        "# Extract header and footer information\n",
        "header = doc.sections[0].header\n",
        "footer = doc.sections[0].footer\n",
        "\n",
        "# Extract color and font information\n",
        "colors = set()\n",
        "fonts = set()\n",
        "\n",
        "for paragraph in doc.paragraphs:\n",
        "    for run in paragraph.runs:\n",
        "        colors.add(run.font.color.rgb)\n",
        "        fonts.add(run.font.name)\n",
        "\n",
        "# Write the extracted information to a CSV file\n",
        "with open('extracted_info.csv', mode='w', newline='') as file:\n",
        "    writer = csv.writer(file)\n",
        "    writer.writerow(['Text', 'Tables', 'Images', 'Bullets', 'Header', 'Footer', 'Colors', 'Fonts'])\n",
        "    writer.writerow([text, tables, images, bullets, header, footer, colors, fonts])\n"
      ],
      "metadata": {
        "id": "RRDWzkxTPdFr"
      },
      "execution_count": 11,
      "outputs": []
    },
    {
      "cell_type": "code",
      "source": [
        "import csv\n",
        "import docx\n",
        "\n",
        "# Open the document\n",
        "doc = docx.Document('/content/sample.docx')\n",
        "\n",
        "# Define a function to extract the text content of each page\n",
        "def extract_page_content(section):\n",
        "    page_content = ''\n",
        "    for element in section._element:\n",
        "        if element.tag.endswith('p'):\n",
        "            for run in element.iter():\n",
        "                if run.text:\n",
        "                    page_content += run.text\n",
        "            page_content += '\\n'\n",
        "    return page_content.strip()\n",
        "\n",
        "# Extract the information from the document\n",
        "pages = []\n",
        "for i, section in enumerate(doc.sections):\n",
        "    page_num = i + 1\n",
        "    page_content = extract_page_content(section)\n",
        "    pages.append([page_num, page_content])\n",
        "\n",
        "# Write the extracted information to a CSV file\n",
        "with open('extracted_info.csv', mode='w', newline='', encoding='utf-8') as file:\n",
        "    writer = csv.writer(file)\n",
        "    writer.writerow(['Page Number', 'Content'])\n",
        "    writer.writerows(pages)\n"
      ],
      "metadata": {
        "colab": {
          "base_uri": "https://localhost:8080/",
          "height": 356
        },
        "id": "2uE98FUCTRL9",
        "outputId": "392c1e0c-7a5b-4b68-d69a-96ea85266e15"
      },
      "execution_count": 10,
      "outputs": [
        {
          "output_type": "error",
          "ename": "AttributeError",
          "evalue": "ignored",
          "traceback": [
            "\u001b[0;31m---------------------------------------------------------------------------\u001b[0m",
            "\u001b[0;31mAttributeError\u001b[0m                            Traceback (most recent call last)",
            "\u001b[0;32m<ipython-input-10-0dc49175d993>\u001b[0m in \u001b[0;36m<cell line: 20>\u001b[0;34m()\u001b[0m\n\u001b[1;32m     20\u001b[0m \u001b[0;32mfor\u001b[0m \u001b[0mi\u001b[0m\u001b[0;34m,\u001b[0m \u001b[0msection\u001b[0m \u001b[0;32min\u001b[0m \u001b[0menumerate\u001b[0m\u001b[0;34m(\u001b[0m\u001b[0mdoc\u001b[0m\u001b[0;34m.\u001b[0m\u001b[0msections\u001b[0m\u001b[0;34m)\u001b[0m\u001b[0;34m:\u001b[0m\u001b[0;34m\u001b[0m\u001b[0;34m\u001b[0m\u001b[0m\n\u001b[1;32m     21\u001b[0m     \u001b[0mpage_num\u001b[0m \u001b[0;34m=\u001b[0m \u001b[0mi\u001b[0m \u001b[0;34m+\u001b[0m \u001b[0;36m1\u001b[0m\u001b[0;34m\u001b[0m\u001b[0;34m\u001b[0m\u001b[0m\n\u001b[0;32m---> 22\u001b[0;31m     \u001b[0mpage_content\u001b[0m \u001b[0;34m=\u001b[0m \u001b[0mextract_page_content\u001b[0m\u001b[0;34m(\u001b[0m\u001b[0msection\u001b[0m\u001b[0;34m)\u001b[0m\u001b[0;34m\u001b[0m\u001b[0;34m\u001b[0m\u001b[0m\n\u001b[0m\u001b[1;32m     23\u001b[0m     \u001b[0mpages\u001b[0m\u001b[0;34m.\u001b[0m\u001b[0mappend\u001b[0m\u001b[0;34m(\u001b[0m\u001b[0;34m[\u001b[0m\u001b[0mpage_num\u001b[0m\u001b[0;34m,\u001b[0m \u001b[0mpage_content\u001b[0m\u001b[0;34m]\u001b[0m\u001b[0;34m)\u001b[0m\u001b[0;34m\u001b[0m\u001b[0;34m\u001b[0m\u001b[0m\n\u001b[1;32m     24\u001b[0m \u001b[0;34m\u001b[0m\u001b[0m\n",
            "\u001b[0;32m<ipython-input-10-0dc49175d993>\u001b[0m in \u001b[0;36mextract_page_content\u001b[0;34m(section)\u001b[0m\n\u001b[1;32m      8\u001b[0m \u001b[0;32mdef\u001b[0m \u001b[0mextract_page_content\u001b[0m\u001b[0;34m(\u001b[0m\u001b[0msection\u001b[0m\u001b[0;34m)\u001b[0m\u001b[0;34m:\u001b[0m\u001b[0;34m\u001b[0m\u001b[0;34m\u001b[0m\u001b[0m\n\u001b[1;32m      9\u001b[0m     \u001b[0mpage_content\u001b[0m \u001b[0;34m=\u001b[0m \u001b[0;34m''\u001b[0m\u001b[0;34m\u001b[0m\u001b[0;34m\u001b[0m\u001b[0m\n\u001b[0;32m---> 10\u001b[0;31m     \u001b[0;32mfor\u001b[0m \u001b[0melement\u001b[0m \u001b[0;32min\u001b[0m \u001b[0msection\u001b[0m\u001b[0;34m.\u001b[0m\u001b[0m_element\u001b[0m\u001b[0;34m:\u001b[0m\u001b[0;34m\u001b[0m\u001b[0;34m\u001b[0m\u001b[0m\n\u001b[0m\u001b[1;32m     11\u001b[0m         \u001b[0;32mif\u001b[0m \u001b[0melement\u001b[0m\u001b[0;34m.\u001b[0m\u001b[0mtag\u001b[0m\u001b[0;34m.\u001b[0m\u001b[0mendswith\u001b[0m\u001b[0;34m(\u001b[0m\u001b[0;34m'p'\u001b[0m\u001b[0;34m)\u001b[0m\u001b[0;34m:\u001b[0m\u001b[0;34m\u001b[0m\u001b[0;34m\u001b[0m\u001b[0m\n\u001b[1;32m     12\u001b[0m             \u001b[0;32mfor\u001b[0m \u001b[0mrun\u001b[0m \u001b[0;32min\u001b[0m \u001b[0melement\u001b[0m\u001b[0;34m.\u001b[0m\u001b[0miter\u001b[0m\u001b[0;34m(\u001b[0m\u001b[0;34m)\u001b[0m\u001b[0;34m:\u001b[0m\u001b[0;34m\u001b[0m\u001b[0;34m\u001b[0m\u001b[0m\n",
            "\u001b[0;31mAttributeError\u001b[0m: 'Section' object has no attribute '_element'"
          ]
        }
      ]
    },
    {
      "cell_type": "code",
      "source": [
        "#the correct code to extract meta data"
      ],
      "metadata": {
        "id": "ue_mMIEuWake"
      },
      "execution_count": null,
      "outputs": []
    },
    {
      "cell_type": "code",
      "source": [
        "import csv\n",
        "import docx\n",
        "from docx.oxml import OxmlElement\n",
        "from docx.oxml.ns import qn\n",
        "\n",
        "# Open the document\n",
        "doc = docx.Document('/content/sample.docx')\n",
        "\n",
        "# Extract text from the document\n",
        "text = []\n",
        "for para in doc.paragraphs:\n",
        "    text.append(para.text)\n",
        "\n",
        "# Extract tables from the document\n",
        "tables = []\n",
        "for table in doc.tables:\n",
        "    for row in table.rows:\n",
        "        for cell in row.cells:\n",
        "            tables.append(cell.text)\n",
        "\n",
        "# Extract images from the document\n",
        "images = []\n",
        "for element in doc.element.body:\n",
        "    if element.tag.endswith('graphic'):\n",
        "        images.append(element)\n",
        "\n",
        "# Extract bullets from the document\n",
        "bullets = []\n",
        "for para in doc.paragraphs:\n",
        "    if para.style.name.startswith('List'):\n",
        "        for run in para.runs:\n",
        "            if run.text:\n",
        "                bullets.append(run.text)\n",
        "\n",
        "# Extract header and footer information\n",
        "header = doc.sections[0].header\n",
        "footer = doc.sections[0].footer\n",
        "\n",
        "# Extract color and font information\n",
        "colors = set()\n",
        "fonts = set()\n",
        "\n",
        "for paragraph in doc.paragraphs:\n",
        "    for run in paragraph.runs:\n",
        "        colors.add(run.font.color.rgb)\n",
        "        fonts.add(run.font.name)\n",
        "\n",
        "# Write the extracted information to a CSV file\n",
        "with open('extracted_info.csv', mode='w', newline='') as file:\n",
        "    writer = csv.writer(file)\n",
        "    writer.writerow(['Text', 'Tables', 'Images', 'Bullets', 'Header', 'Footer', 'Colors', 'Fonts', 'Page Number'])\n",
        "    for i, para in enumerate(doc.paragraphs):\n",
        "        row = []\n",
        "        if i == 0 or i == len(doc.paragraphs) - 1:\n",
        "            row.append('')\n",
        "        else:\n",
        "            row.append(text[i - 1])\n",
        "        row.append('')\n",
        "        row.append('')\n",
        "        row.append('')\n",
        "        row.append(header)\n",
        "        row.append(footer)\n",
        "        row.append(colors)\n",
        "        row.append(fonts)\n",
        "        row.append(len(para._element.xpath('.//w:t')))\n",
        "        writer.writerow(row)\n",
        "    for i, table in enumerate(doc.tables):\n",
        "        row = [''] * 9\n",
        "        row[1] = tables[i]\n",
        "        row[8] = len(table._element.xpath('.//w:t'))\n",
        "        writer.writerow(row)\n"
      ],
      "metadata": {
        "id": "7zFAdzVqVYhB"
      },
      "execution_count": 16,
      "outputs": []
    },
    {
      "cell_type": "code",
      "source": [
        "#reverse metadata to docx creator"
      ],
      "metadata": {
        "id": "_vwjyYZfYLNS"
      },
      "execution_count": null,
      "outputs": []
    },
    {
      "cell_type": "code",
      "source": [
        "import csv\n",
        "import docx\n",
        "\n",
        "# Open the CSV file containing the metadata\n",
        "with open('extracted_info.csv', mode='r') as file:\n",
        "    reader = csv.reader(file)\n",
        "    # Skip the header row\n",
        "    next(reader)\n",
        "    \n",
        "    # Create a new document\n",
        "    doc = docx.Document()\n",
        "    \n",
        "    # Add a blank paragraph to the document\n",
        "    doc.add_paragraph()\n",
        "    \n",
        "    # Loop through the rows in the CSV file\n",
        "    for row in reader:\n",
        "        # If the row represents text, add it as a new paragraph\n",
        "        if row[0]:\n",
        "            doc.add_paragraph(row[0])\n",
        "        \n",
        "        # If the row represents a table, add it to the document\n",
        "        if row[1]:\n",
        "            num_rows = int(row[8])\n",
        "            num_cols = row[1].count('\\t') + 1\n",
        "            table = doc.add_table(rows=num_rows, cols=num_cols)\n",
        "            for i, cell_text in enumerate(row[1].split('\\t')):\n",
        "                table.cell(0, i).text = cell_text\n",
        "            for i in range(1, num_rows):\n",
        "                table.add_row()\n",
        "        \n",
        "        # If the row represents an image, add it to the document\n",
        "        if row[2]:\n",
        "            img = doc.add_picture(row[2])\n",
        "        \n",
        "        # If the row represents bullets, add them to the document\n",
        "        if row[3]:\n",
        "            p = doc.add_paragraph()\n",
        "            for bullet_text in row[3].split('\\n'):\n",
        "                p.add_run(bullet_text).add_break(docx.enum.text.WD_BREAK.LINE)\n",
        "        \n",
        "        # If the row represents header information, add it to the document\n",
        "        if row[4]:\n",
        "            doc.sections[0].header.text = row[4]\n",
        "        \n",
        "        # If the row represents footer information, add it to the document\n",
        "        if row[5]:\n",
        "            doc.sections[0].footer.text = row[5]\n",
        "        \n",
        "        # If the row represents color information, set the font color of the current paragraph\n",
        "        if row[6]:\n",
        "            for paragraph in doc.paragraphs:\n",
        "                for run in paragraph.runs:\n",
        "                    run.font.color.rgb = row[6]\n",
        "        \n",
        "        # If the row represents font information, set the font name of the current paragraph\n",
        "        if row[7]:\n",
        "            for paragraph in doc.paragraphs:\n",
        "                for run in paragraph.runs:\n",
        "                    run.font.name = row[7]\n",
        "    \n",
        "    # Save the new document\n",
        "    doc.save('new_document.docx')\n"
      ],
      "metadata": {
        "colab": {
          "base_uri": "https://localhost:8080/",
          "height": 432
        },
        "id": "S_mQGNkxYDRz",
        "outputId": "695edc01-a50f-4c9d-ebe0-6f04f6ce3a20"
      },
      "execution_count": 17,
      "outputs": [
        {
          "output_type": "error",
          "ename": "ValueError",
          "evalue": "ignored",
          "traceback": [
            "\u001b[0;31m---------------------------------------------------------------------------\u001b[0m",
            "\u001b[0;31mValueError\u001b[0m                                Traceback (most recent call last)",
            "\u001b[0;32m<ipython-input-17-3cb6156b6fc0>\u001b[0m in \u001b[0;36m<cell line: 5>\u001b[0;34m()\u001b[0m\n\u001b[1;32m     52\u001b[0m             \u001b[0;32mfor\u001b[0m \u001b[0mparagraph\u001b[0m \u001b[0;32min\u001b[0m \u001b[0mdoc\u001b[0m\u001b[0;34m.\u001b[0m\u001b[0mparagraphs\u001b[0m\u001b[0;34m:\u001b[0m\u001b[0;34m\u001b[0m\u001b[0;34m\u001b[0m\u001b[0m\n\u001b[1;32m     53\u001b[0m                 \u001b[0;32mfor\u001b[0m \u001b[0mrun\u001b[0m \u001b[0;32min\u001b[0m \u001b[0mparagraph\u001b[0m\u001b[0;34m.\u001b[0m\u001b[0mruns\u001b[0m\u001b[0;34m:\u001b[0m\u001b[0;34m\u001b[0m\u001b[0;34m\u001b[0m\u001b[0m\n\u001b[0;32m---> 54\u001b[0;31m                     \u001b[0mrun\u001b[0m\u001b[0;34m.\u001b[0m\u001b[0mfont\u001b[0m\u001b[0;34m.\u001b[0m\u001b[0mcolor\u001b[0m\u001b[0;34m.\u001b[0m\u001b[0mrgb\u001b[0m \u001b[0;34m=\u001b[0m \u001b[0mrow\u001b[0m\u001b[0;34m[\u001b[0m\u001b[0;36m6\u001b[0m\u001b[0;34m]\u001b[0m\u001b[0;34m\u001b[0m\u001b[0;34m\u001b[0m\u001b[0m\n\u001b[0m\u001b[1;32m     55\u001b[0m \u001b[0;34m\u001b[0m\u001b[0m\n\u001b[1;32m     56\u001b[0m         \u001b[0;31m# If the row represents font information, set the font name of the current paragraph\u001b[0m\u001b[0;34m\u001b[0m\u001b[0;34m\u001b[0m\u001b[0m\n",
            "\u001b[0;32m/usr/local/lib/python3.10/dist-packages/docx/dml/color.py\u001b[0m in \u001b[0;36mrgb\u001b[0;34m(self, value)\u001b[0m\n\u001b[1;32m     58\u001b[0m         \u001b[0mrPr\u001b[0m\u001b[0;34m.\u001b[0m\u001b[0m_remove_color\u001b[0m\u001b[0;34m(\u001b[0m\u001b[0;34m)\u001b[0m\u001b[0;34m\u001b[0m\u001b[0;34m\u001b[0m\u001b[0m\n\u001b[1;32m     59\u001b[0m         \u001b[0;32mif\u001b[0m \u001b[0mvalue\u001b[0m \u001b[0;32mis\u001b[0m \u001b[0;32mnot\u001b[0m \u001b[0;32mNone\u001b[0m\u001b[0;34m:\u001b[0m\u001b[0;34m\u001b[0m\u001b[0;34m\u001b[0m\u001b[0m\n\u001b[0;32m---> 60\u001b[0;31m             \u001b[0mrPr\u001b[0m\u001b[0;34m.\u001b[0m\u001b[0mget_or_add_color\u001b[0m\u001b[0;34m(\u001b[0m\u001b[0;34m)\u001b[0m\u001b[0;34m.\u001b[0m\u001b[0mval\u001b[0m \u001b[0;34m=\u001b[0m \u001b[0mvalue\u001b[0m\u001b[0;34m\u001b[0m\u001b[0;34m\u001b[0m\u001b[0m\n\u001b[0m\u001b[1;32m     61\u001b[0m \u001b[0;34m\u001b[0m\u001b[0m\n\u001b[1;32m     62\u001b[0m     \u001b[0;34m@\u001b[0m\u001b[0mproperty\u001b[0m\u001b[0;34m\u001b[0m\u001b[0;34m\u001b[0m\u001b[0m\n",
            "\u001b[0;32m/usr/local/lib/python3.10/dist-packages/docx/oxml/xmlchemy.py\u001b[0m in \u001b[0;36mset_attr_value\u001b[0;34m(obj, value)\u001b[0m\n\u001b[1;32m    239\u001b[0m         \"\"\"\n\u001b[1;32m    240\u001b[0m         \u001b[0;32mdef\u001b[0m \u001b[0mset_attr_value\u001b[0m\u001b[0;34m(\u001b[0m\u001b[0mobj\u001b[0m\u001b[0;34m,\u001b[0m \u001b[0mvalue\u001b[0m\u001b[0;34m)\u001b[0m\u001b[0;34m:\u001b[0m\u001b[0;34m\u001b[0m\u001b[0;34m\u001b[0m\u001b[0m\n\u001b[0;32m--> 241\u001b[0;31m             \u001b[0mstr_value\u001b[0m \u001b[0;34m=\u001b[0m \u001b[0mself\u001b[0m\u001b[0;34m.\u001b[0m\u001b[0m_simple_type\u001b[0m\u001b[0;34m.\u001b[0m\u001b[0mto_xml\u001b[0m\u001b[0;34m(\u001b[0m\u001b[0mvalue\u001b[0m\u001b[0;34m)\u001b[0m\u001b[0;34m\u001b[0m\u001b[0;34m\u001b[0m\u001b[0m\n\u001b[0m\u001b[1;32m    242\u001b[0m             \u001b[0mobj\u001b[0m\u001b[0;34m.\u001b[0m\u001b[0mset\u001b[0m\u001b[0;34m(\u001b[0m\u001b[0mself\u001b[0m\u001b[0;34m.\u001b[0m\u001b[0m_clark_name\u001b[0m\u001b[0;34m,\u001b[0m \u001b[0mstr_value\u001b[0m\u001b[0;34m)\u001b[0m\u001b[0;34m\u001b[0m\u001b[0;34m\u001b[0m\u001b[0m\n\u001b[1;32m    243\u001b[0m         \u001b[0;32mreturn\u001b[0m \u001b[0mset_attr_value\u001b[0m\u001b[0;34m\u001b[0m\u001b[0;34m\u001b[0m\u001b[0m\n",
            "\u001b[0;32m/usr/local/lib/python3.10/dist-packages/docx/oxml/simpletypes.py\u001b[0m in \u001b[0;36mto_xml\u001b[0;34m(cls, value)\u001b[0m\n\u001b[1;32m     23\u001b[0m     \u001b[0;34m@\u001b[0m\u001b[0mclassmethod\u001b[0m\u001b[0;34m\u001b[0m\u001b[0;34m\u001b[0m\u001b[0m\n\u001b[1;32m     24\u001b[0m     \u001b[0;32mdef\u001b[0m \u001b[0mto_xml\u001b[0m\u001b[0;34m(\u001b[0m\u001b[0mcls\u001b[0m\u001b[0;34m,\u001b[0m \u001b[0mvalue\u001b[0m\u001b[0;34m)\u001b[0m\u001b[0;34m:\u001b[0m\u001b[0;34m\u001b[0m\u001b[0;34m\u001b[0m\u001b[0m\n\u001b[0;32m---> 25\u001b[0;31m         \u001b[0mcls\u001b[0m\u001b[0;34m.\u001b[0m\u001b[0mvalidate\u001b[0m\u001b[0;34m(\u001b[0m\u001b[0mvalue\u001b[0m\u001b[0;34m)\u001b[0m\u001b[0;34m\u001b[0m\u001b[0;34m\u001b[0m\u001b[0m\n\u001b[0m\u001b[1;32m     26\u001b[0m         \u001b[0mstr_value\u001b[0m \u001b[0;34m=\u001b[0m \u001b[0mcls\u001b[0m\u001b[0;34m.\u001b[0m\u001b[0mconvert_to_xml\u001b[0m\u001b[0;34m(\u001b[0m\u001b[0mvalue\u001b[0m\u001b[0;34m)\u001b[0m\u001b[0;34m\u001b[0m\u001b[0;34m\u001b[0m\u001b[0m\n\u001b[1;32m     27\u001b[0m         \u001b[0;32mreturn\u001b[0m \u001b[0mstr_value\u001b[0m\u001b[0;34m\u001b[0m\u001b[0;34m\u001b[0m\u001b[0m\n",
            "\u001b[0;32m/usr/local/lib/python3.10/dist-packages/docx/oxml/simpletypes.py\u001b[0m in \u001b[0;36mvalidate\u001b[0;34m(cls, value)\u001b[0m\n\u001b[1;32m    258\u001b[0m         \u001b[0;31m# must be an RGBColor object ---\u001b[0m\u001b[0;34m\u001b[0m\u001b[0;34m\u001b[0m\u001b[0m\n\u001b[1;32m    259\u001b[0m         \u001b[0;32mif\u001b[0m \u001b[0;32mnot\u001b[0m \u001b[0misinstance\u001b[0m\u001b[0;34m(\u001b[0m\u001b[0mvalue\u001b[0m\u001b[0;34m,\u001b[0m \u001b[0mRGBColor\u001b[0m\u001b[0;34m)\u001b[0m\u001b[0;34m:\u001b[0m\u001b[0;34m\u001b[0m\u001b[0;34m\u001b[0m\u001b[0m\n\u001b[0;32m--> 260\u001b[0;31m             raise ValueError(\n\u001b[0m\u001b[1;32m    261\u001b[0m                 \u001b[0;34m\"rgb color value must be RGBColor object, got %s %s\"\u001b[0m\u001b[0;34m\u001b[0m\u001b[0;34m\u001b[0m\u001b[0m\n\u001b[1;32m    262\u001b[0m                 \u001b[0;34m%\u001b[0m \u001b[0;34m(\u001b[0m\u001b[0mtype\u001b[0m\u001b[0;34m(\u001b[0m\u001b[0mvalue\u001b[0m\u001b[0;34m)\u001b[0m\u001b[0;34m,\u001b[0m \u001b[0mvalue\u001b[0m\u001b[0;34m)\u001b[0m\u001b[0;34m\u001b[0m\u001b[0;34m\u001b[0m\u001b[0m\n",
            "\u001b[0;31mValueError\u001b[0m: rgb color value must be RGBColor object, got <class 'str'> {RGBColor(0x0d, 0x0d, 0x0d), RGBColor(0x1f, 0x49, 0x7d), RGBColor(0xff, 0x00, 0x00), RGBColor(0xe3, 0x6c, 0x0a), RGBColor(0xd6, 0x00, 0x93), RGBColor(0xc0, 0x50, 0x4d), RGBColor(0xf7, 0x96, 0x46), RGBColor(0x00, 0xb0, 0x50), RGBColor(0x00, 0x80, 0x00), RGBColor(0xff, 0xff, 0xff), RGBColor(0x00, 0x20, 0x60), RGBColor(0xcc, 0x99, 0x00), RGBColor(0x4f, 0x81, 0xbd), RGBColor(0x00, 0x00, 0x00), RGBColor(0x0f, 0x24, 0x3e), RGBColor(0x00, 0x70, 0xc0), RGBColor(0x80, 0x64, 0xa2), RGBColor(0xcc, 0x66, 0x00), RGBColor(0x00, 0xb0, 0xf0), None, RGBColor(0x94, 0x36, 0x34)}"
          ]
        }
      ]
    },
    {
      "cell_type": "code",
      "source": [
        "import csv\n",
        "import docx\n",
        "from docx.oxml import OxmlElement\n",
        "from docx.oxml.ns import qn\n",
        "from docx.shared import RGBColor\n",
        "\n",
        "# Open the metadata CSV file\n",
        "with open('/content/extracted_info.csv', mode='r') as file:\n",
        "    reader = csv.reader(file)\n",
        "    next(reader)  # Skip the header row\n",
        "    rows = list(reader)\n",
        "\n",
        "# Open the template document\n",
        "doc = docx.Document('/content/sample.docx')\n",
        "\n",
        "# Update the document with the metadata from the CSV file\n",
        "for i, row in enumerate(rows):\n",
        "    if i == 0:\n",
        "        # If the first row represents table information, insert a table at the beginning of the document\n",
        "        table = doc.add_table(int(row[1]), int(row[2]))\n",
        "        for j, cell in enumerate(table.cell(0, 0).parentRow.cells):\n",
        "            cell.text = row[j + 3]\n",
        "    else:\n",
        "        # Otherwise, add a new paragraph to the document\n",
        "        p = doc.add_paragraph()\n",
        "        p.text = row[0]\n",
        "\n",
        "        # If the row represents color information, set the color of the current paragraph\n",
        "        if row[6]:\n",
        "            color_values = [int(x, 16) for x in row[6].split(',')]\n",
        "            p.runs[-1].font.color.rgb = RGBColor(*color_values)\n",
        "\n",
        "        # If the row represents font information, set the font name of the current paragraph\n",
        "        if row[7]:\n",
        "            p.runs[-1].font.name = row[7]\n",
        "\n",
        "# Save the updated document\n",
        "doc.save('updated_document.docx')\n"
      ],
      "metadata": {
        "colab": {
          "base_uri": "https://localhost:8080/",
          "height": 235
        },
        "id": "D39DmhqiYUvM",
        "outputId": "fccf27b8-30ec-495c-bb37-786809387f57"
      },
      "execution_count": 19,
      "outputs": [
        {
          "output_type": "error",
          "ename": "ValueError",
          "evalue": "ignored",
          "traceback": [
            "\u001b[0;31m---------------------------------------------------------------------------\u001b[0m",
            "\u001b[0;31mValueError\u001b[0m                                Traceback (most recent call last)",
            "\u001b[0;32m<ipython-input-19-0feda8a51ab8>\u001b[0m in \u001b[0;36m<cell line: 17>\u001b[0;34m()\u001b[0m\n\u001b[1;32m     18\u001b[0m     \u001b[0;32mif\u001b[0m \u001b[0mi\u001b[0m \u001b[0;34m==\u001b[0m \u001b[0;36m0\u001b[0m\u001b[0;34m:\u001b[0m\u001b[0;34m\u001b[0m\u001b[0;34m\u001b[0m\u001b[0m\n\u001b[1;32m     19\u001b[0m         \u001b[0;31m# If the first row represents table information, insert a table at the beginning of the document\u001b[0m\u001b[0;34m\u001b[0m\u001b[0;34m\u001b[0m\u001b[0m\n\u001b[0;32m---> 20\u001b[0;31m         \u001b[0mtable\u001b[0m \u001b[0;34m=\u001b[0m \u001b[0mdoc\u001b[0m\u001b[0;34m.\u001b[0m\u001b[0madd_table\u001b[0m\u001b[0;34m(\u001b[0m\u001b[0mint\u001b[0m\u001b[0;34m(\u001b[0m\u001b[0mrow\u001b[0m\u001b[0;34m[\u001b[0m\u001b[0;36m1\u001b[0m\u001b[0;34m]\u001b[0m\u001b[0;34m)\u001b[0m\u001b[0;34m,\u001b[0m \u001b[0mint\u001b[0m\u001b[0;34m(\u001b[0m\u001b[0mrow\u001b[0m\u001b[0;34m[\u001b[0m\u001b[0;36m2\u001b[0m\u001b[0;34m]\u001b[0m\u001b[0;34m)\u001b[0m\u001b[0;34m)\u001b[0m\u001b[0;34m\u001b[0m\u001b[0;34m\u001b[0m\u001b[0m\n\u001b[0m\u001b[1;32m     21\u001b[0m         \u001b[0;32mfor\u001b[0m \u001b[0mj\u001b[0m\u001b[0;34m,\u001b[0m \u001b[0mcell\u001b[0m \u001b[0;32min\u001b[0m \u001b[0menumerate\u001b[0m\u001b[0;34m(\u001b[0m\u001b[0mtable\u001b[0m\u001b[0;34m.\u001b[0m\u001b[0mcell\u001b[0m\u001b[0;34m(\u001b[0m\u001b[0;36m0\u001b[0m\u001b[0;34m,\u001b[0m \u001b[0;36m0\u001b[0m\u001b[0;34m)\u001b[0m\u001b[0;34m.\u001b[0m\u001b[0mparentRow\u001b[0m\u001b[0;34m.\u001b[0m\u001b[0mcells\u001b[0m\u001b[0;34m)\u001b[0m\u001b[0;34m:\u001b[0m\u001b[0;34m\u001b[0m\u001b[0;34m\u001b[0m\u001b[0m\n\u001b[1;32m     22\u001b[0m             \u001b[0mcell\u001b[0m\u001b[0;34m.\u001b[0m\u001b[0mtext\u001b[0m \u001b[0;34m=\u001b[0m \u001b[0mrow\u001b[0m\u001b[0;34m[\u001b[0m\u001b[0mj\u001b[0m \u001b[0;34m+\u001b[0m \u001b[0;36m3\u001b[0m\u001b[0;34m]\u001b[0m\u001b[0;34m\u001b[0m\u001b[0;34m\u001b[0m\u001b[0m\n",
            "\u001b[0;31mValueError\u001b[0m: invalid literal for int() with base 10: ''"
          ]
        }
      ]
    },
    {
      "cell_type": "code",
      "source": [
        "import csv\n",
        "import docx\n",
        "from docx.oxml import OxmlElement\n",
        "from docx.oxml.ns import qn\n",
        "from docx.shared import RGBColor\n",
        "\n",
        "# Open the CSV file\n",
        "with open('extracted_info.csv', mode='r') as file:\n",
        "    reader = csv.reader(file)\n",
        "    next(reader)  # skip the header row\n",
        "    rows = list(reader)\n",
        "\n",
        "# Create a new document\n",
        "doc = docx.Document()\n",
        "\n",
        "# Set the header and footer of the document\n",
        "header = doc.sections[0].header\n",
        "header.paragraphs[0].text = rows[0][4]\n",
        "footer = doc.sections[0].footer\n",
        "footer.paragraphs[0].text = rows[0][5]\n",
        "\n",
        "# Add paragraphs, tables, and set font and color information\n",
        "for row in rows:\n",
        "    if row[0]:  # Add a paragraph\n",
        "        paragraph = doc.add_paragraph()\n",
        "        paragraph.text = row[0]\n",
        "        font = paragraph.runs[0].font\n",
        "        font.name = list(row[7])[0].name\n",
        "        if row[6]:\n",
        "            font.color.rgb = RGBColor.from_string(row[6])\n",
        "\n",
        "    elif row[1]:  # Add a table\n",
        "        table = doc.add_table(rows=1, cols=len(row[1].split('\\n')))\n",
        "        hdr_cells = table.rows[0].cells\n",
        "        hdr_cells_text = row[1].split('\\n')\n",
        "        for i, hdr_cell_text in enumerate(hdr_cells_text):\n",
        "            hdr_cells[i].text = hdr_cell_text\n",
        "\n",
        "    elif row[4] or row[5]:  # Set header or footer text\n",
        "        pass\n",
        "\n",
        "# Save the document\n",
        "doc.save('generated_doc.docx')\n"
      ],
      "metadata": {
        "colab": {
          "base_uri": "https://localhost:8080/",
          "height": 235
        },
        "id": "JTK45E_jZQfd",
        "outputId": "8ffdf20a-dc76-426b-f6f6-335a1434ee2e"
      },
      "execution_count": 20,
      "outputs": [
        {
          "output_type": "error",
          "ename": "AttributeError",
          "evalue": "ignored",
          "traceback": [
            "\u001b[0;31m---------------------------------------------------------------------------\u001b[0m",
            "\u001b[0;31mAttributeError\u001b[0m                            Traceback (most recent call last)",
            "\u001b[0;32m<ipython-input-20-985bde79e62f>\u001b[0m in \u001b[0;36m<cell line: 23>\u001b[0;34m()\u001b[0m\n\u001b[1;32m     26\u001b[0m         \u001b[0mparagraph\u001b[0m\u001b[0;34m.\u001b[0m\u001b[0mtext\u001b[0m \u001b[0;34m=\u001b[0m \u001b[0mrow\u001b[0m\u001b[0;34m[\u001b[0m\u001b[0;36m0\u001b[0m\u001b[0;34m]\u001b[0m\u001b[0;34m\u001b[0m\u001b[0;34m\u001b[0m\u001b[0m\n\u001b[1;32m     27\u001b[0m         \u001b[0mfont\u001b[0m \u001b[0;34m=\u001b[0m \u001b[0mparagraph\u001b[0m\u001b[0;34m.\u001b[0m\u001b[0mruns\u001b[0m\u001b[0;34m[\u001b[0m\u001b[0;36m0\u001b[0m\u001b[0;34m]\u001b[0m\u001b[0;34m.\u001b[0m\u001b[0mfont\u001b[0m\u001b[0;34m\u001b[0m\u001b[0;34m\u001b[0m\u001b[0m\n\u001b[0;32m---> 28\u001b[0;31m         \u001b[0mfont\u001b[0m\u001b[0;34m.\u001b[0m\u001b[0mname\u001b[0m \u001b[0;34m=\u001b[0m \u001b[0mlist\u001b[0m\u001b[0;34m(\u001b[0m\u001b[0mrow\u001b[0m\u001b[0;34m[\u001b[0m\u001b[0;36m7\u001b[0m\u001b[0;34m]\u001b[0m\u001b[0;34m)\u001b[0m\u001b[0;34m[\u001b[0m\u001b[0;36m0\u001b[0m\u001b[0;34m]\u001b[0m\u001b[0;34m.\u001b[0m\u001b[0mname\u001b[0m\u001b[0;34m\u001b[0m\u001b[0;34m\u001b[0m\u001b[0m\n\u001b[0m\u001b[1;32m     29\u001b[0m         \u001b[0;32mif\u001b[0m \u001b[0mrow\u001b[0m\u001b[0;34m[\u001b[0m\u001b[0;36m6\u001b[0m\u001b[0;34m]\u001b[0m\u001b[0;34m:\u001b[0m\u001b[0;34m\u001b[0m\u001b[0;34m\u001b[0m\u001b[0m\n\u001b[1;32m     30\u001b[0m             \u001b[0mfont\u001b[0m\u001b[0;34m.\u001b[0m\u001b[0mcolor\u001b[0m\u001b[0;34m.\u001b[0m\u001b[0mrgb\u001b[0m \u001b[0;34m=\u001b[0m \u001b[0mRGBColor\u001b[0m\u001b[0;34m.\u001b[0m\u001b[0mfrom_string\u001b[0m\u001b[0;34m(\u001b[0m\u001b[0mrow\u001b[0m\u001b[0;34m[\u001b[0m\u001b[0;36m6\u001b[0m\u001b[0;34m]\u001b[0m\u001b[0;34m)\u001b[0m\u001b[0;34m\u001b[0m\u001b[0;34m\u001b[0m\u001b[0m\n",
            "\u001b[0;31mAttributeError\u001b[0m: 'str' object has no attribute 'name'"
          ]
        }
      ]
    },
    {
      "cell_type": "code",
      "source": [
        "import csv\n",
        "import docx\n",
        "from docx.oxml import OxmlElement\n",
        "from docx.oxml.ns import qn\n",
        "from docx.shared import RGBColor\n",
        "\n",
        "# Open the CSV file\n",
        "with open('extracted_info.csv', mode='r') as file:\n",
        "    reader = csv.reader(file)\n",
        "    next(reader)  # skip the header row\n",
        "    rows = list(reader)\n",
        "\n",
        "# Create a new document\n",
        "doc = docx.Document()\n",
        "\n",
        "# Set the header and footer of the document\n",
        "header = doc.sections[0].header\n",
        "header.paragraphs[0].text = rows[0][4]\n",
        "footer = doc.sections[0].footer\n",
        "footer.paragraphs[0].text = rows[0][5]\n",
        "\n",
        "# Add paragraphs, tables, and set font and color information\n",
        "for row in rows:\n",
        "    if row[0]:  # Add a paragraph\n",
        "        paragraph = doc.add_paragraph()\n",
        "        paragraph.text = row[0]\n",
        "        font = paragraph.runs[0].font\n",
        "        font.name = list(row[7])[0].name\n",
        "        if row[6]:\n",
        "            font.color.rgb = RGBColor.from_string(row[6])\n",
        "\n",
        "    elif row[1]:  # Add a table\n",
        "        table = doc.add_table(rows=1, cols=len(row[1].split('\\n')))\n",
        "        hdr_cells = table.rows[0].cells\n",
        "        hdr_cells_text = row[1].split('\\n')\n",
        "        for i, hdr_cell_text in enumerate(hdr_cells_text):\n",
        "            hdr_cells[i].text = hdr_cell_text\n",
        "\n",
        "    elif row[4] or row[5]:  # Set header or footer text\n",
        "        pass\n",
        "\n",
        "# Save the document\n",
        "doc.save('generated_doc.docx')\n"
      ],
      "metadata": {
        "colab": {
          "base_uri": "https://localhost:8080/",
          "height": 235
        },
        "id": "QoyHAsmxZhvf",
        "outputId": "8304998b-e544-4d0d-e28a-4ccbe8972e48"
      },
      "execution_count": 21,
      "outputs": [
        {
          "output_type": "error",
          "ename": "AttributeError",
          "evalue": "ignored",
          "traceback": [
            "\u001b[0;31m---------------------------------------------------------------------------\u001b[0m",
            "\u001b[0;31mAttributeError\u001b[0m                            Traceback (most recent call last)",
            "\u001b[0;32m<ipython-input-21-985bde79e62f>\u001b[0m in \u001b[0;36m<cell line: 23>\u001b[0;34m()\u001b[0m\n\u001b[1;32m     26\u001b[0m         \u001b[0mparagraph\u001b[0m\u001b[0;34m.\u001b[0m\u001b[0mtext\u001b[0m \u001b[0;34m=\u001b[0m \u001b[0mrow\u001b[0m\u001b[0;34m[\u001b[0m\u001b[0;36m0\u001b[0m\u001b[0;34m]\u001b[0m\u001b[0;34m\u001b[0m\u001b[0;34m\u001b[0m\u001b[0m\n\u001b[1;32m     27\u001b[0m         \u001b[0mfont\u001b[0m \u001b[0;34m=\u001b[0m \u001b[0mparagraph\u001b[0m\u001b[0;34m.\u001b[0m\u001b[0mruns\u001b[0m\u001b[0;34m[\u001b[0m\u001b[0;36m0\u001b[0m\u001b[0;34m]\u001b[0m\u001b[0;34m.\u001b[0m\u001b[0mfont\u001b[0m\u001b[0;34m\u001b[0m\u001b[0;34m\u001b[0m\u001b[0m\n\u001b[0;32m---> 28\u001b[0;31m         \u001b[0mfont\u001b[0m\u001b[0;34m.\u001b[0m\u001b[0mname\u001b[0m \u001b[0;34m=\u001b[0m \u001b[0mlist\u001b[0m\u001b[0;34m(\u001b[0m\u001b[0mrow\u001b[0m\u001b[0;34m[\u001b[0m\u001b[0;36m7\u001b[0m\u001b[0;34m]\u001b[0m\u001b[0;34m)\u001b[0m\u001b[0;34m[\u001b[0m\u001b[0;36m0\u001b[0m\u001b[0;34m]\u001b[0m\u001b[0;34m.\u001b[0m\u001b[0mname\u001b[0m\u001b[0;34m\u001b[0m\u001b[0;34m\u001b[0m\u001b[0m\n\u001b[0m\u001b[1;32m     29\u001b[0m         \u001b[0;32mif\u001b[0m \u001b[0mrow\u001b[0m\u001b[0;34m[\u001b[0m\u001b[0;36m6\u001b[0m\u001b[0;34m]\u001b[0m\u001b[0;34m:\u001b[0m\u001b[0;34m\u001b[0m\u001b[0;34m\u001b[0m\u001b[0m\n\u001b[1;32m     30\u001b[0m             \u001b[0mfont\u001b[0m\u001b[0;34m.\u001b[0m\u001b[0mcolor\u001b[0m\u001b[0;34m.\u001b[0m\u001b[0mrgb\u001b[0m \u001b[0;34m=\u001b[0m \u001b[0mRGBColor\u001b[0m\u001b[0;34m.\u001b[0m\u001b[0mfrom_string\u001b[0m\u001b[0;34m(\u001b[0m\u001b[0mrow\u001b[0m\u001b[0;34m[\u001b[0m\u001b[0;36m6\u001b[0m\u001b[0;34m]\u001b[0m\u001b[0;34m)\u001b[0m\u001b[0;34m\u001b[0m\u001b[0;34m\u001b[0m\u001b[0m\n",
            "\u001b[0;31mAttributeError\u001b[0m: 'str' object has no attribute 'name'"
          ]
        }
      ]
    }
  ]
}