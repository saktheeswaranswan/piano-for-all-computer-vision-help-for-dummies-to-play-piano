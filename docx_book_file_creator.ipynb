{
  "nbformat": 4,
  "nbformat_minor": 0,
  "metadata": {
    "colab": {
      "provenance": [],
      "authorship_tag": "ABX9TyOYDTs4eBmouRsCDQzxEyqJ",
      "include_colab_link": true
    },
    "kernelspec": {
      "name": "python3",
      "display_name": "Python 3"
    },
    "language_info": {
      "name": "python"
    }
  },
  "cells": [
    {
      "cell_type": "markdown",
      "metadata": {
        "id": "view-in-github",
        "colab_type": "text"
      },
      "source": [
        "<a href=\"https://colab.research.google.com/github/saktheeswaranswan/piano-for-all-computer-vision-help-for-dummies-to-play-piano/blob/main/docx_book_file_creator.ipynb\" target=\"_parent\"><img src=\"https://colab.research.google.com/assets/colab-badge.svg\" alt=\"Open In Colab\"/></a>"
      ]
    },
    {
      "cell_type": "code",
      "execution_count": null,
      "metadata": {
        "id": "v8vhVJI2Kd8_"
      },
      "outputs": [],
      "source": [
        "import docx\n",
        "\n",
        "# Open the document\n",
        "doc = docx.Document('/content/sample.docx')\n",
        "\n",
        "# Extract text from the document\n",
        "text = []\n",
        "for para in doc.paragraphs:\n",
        "    text.append(para.text)\n",
        "print(\"Text:\\n\")\n",
        "print('\\n'.join(text))\n",
        "\n",
        "# Extract tables from the document\n",
        "tables = []\n",
        "for table in doc.tables:\n",
        "    for row in table.rows:\n",
        "        for cell in row.cells:\n",
        "            tables.append(cell.text)\n",
        "print(\"\\nTables:\\n\")\n",
        "print('\\n'.join(tables))\n",
        "\n",
        "# Extract images from the document\n",
        "images = []\n",
        "for element in doc.element.body:\n",
        "    if element.tag.endswith('graphic'):\n",
        "        images.append(element)\n",
        "print(\"\\nImages:\\n\")\n",
        "print(images)\n",
        "\n",
        "# Extract bullets from the document\n",
        "bullets = []\n",
        "for para in doc.paragraphs:\n",
        "    if para.style.name.startswith('List'):\n",
        "        for run in para.runs:\n",
        "            if run.text:\n",
        "                bullets.append(run.text)\n",
        "print(\"\\nBullets:\\n\")\n",
        "print('\\n'.join(bullets))\n",
        "\n",
        "# Extract header and footer information\n",
        "header = doc.sections[0].header\n",
        "footer = doc.sections[0].footer\n",
        "\n",
        "print(\"\\nHeader:\\n\")\n",
        "for paragraph in header.paragraphs:\n",
        "    print(paragraph.text)\n",
        "\n",
        "print(\"\\nFooter:\\n\")\n",
        "for paragraph in footer.paragraphs:\n",
        "    print(paragraph.text)\n",
        "\n",
        "# Extract color and font information\n",
        "colors = set()\n",
        "fonts = set()\n",
        "\n",
        "for paragraph in doc.paragraphs:\n",
        "    for run in paragraph.runs:\n",
        "        colors.add(run.font.color.rgb)\n",
        "        fonts.add(run.font.name)\n",
        "\n",
        "print(\"\\nColors:\\n\")\n",
        "print(colors)\n",
        "print(\"\\nFonts:\\n\")\n",
        "print(fonts)\n"
      ]
    },
    {
      "cell_type": "code",
      "source": [
        "!pip install python-docx\n"
      ],
      "metadata": {
        "colab": {
          "base_uri": "https://localhost:8080/"
        },
        "id": "zq_8YetINh5K",
        "outputId": "0d60f0bb-1c27-4f1a-9aa3-c33ea727a026"
      },
      "execution_count": 3,
      "outputs": [
        {
          "output_type": "stream",
          "name": "stdout",
          "text": [
            "Looking in indexes: https://pypi.org/simple, https://us-python.pkg.dev/colab-wheels/public/simple/\n",
            "Collecting python-docx\n",
            "  Downloading python-docx-0.8.11.tar.gz (5.6 MB)\n",
            "\u001b[2K     \u001b[90m━━━━━━━━━━━━━━━━━━━━━━━━━━━━━━━━━━━━━━━━\u001b[0m \u001b[32m5.6/5.6 MB\u001b[0m \u001b[31m49.4 MB/s\u001b[0m eta \u001b[36m0:00:00\u001b[0m\n",
            "\u001b[?25h  Preparing metadata (setup.py) ... \u001b[?25l\u001b[?25hdone\n",
            "Requirement already satisfied: lxml>=2.3.2 in /usr/local/lib/python3.10/dist-packages (from python-docx) (4.9.2)\n",
            "Building wheels for collected packages: python-docx\n",
            "  Building wheel for python-docx (setup.py) ... \u001b[?25l\u001b[?25hdone\n",
            "  Created wheel for python-docx: filename=python_docx-0.8.11-py3-none-any.whl size=184505 sha256=3e5cf3e14261f937c019738252fe171b46ad1a45a6c34b968dc1ea329708c011\n",
            "  Stored in directory: /root/.cache/pip/wheels/80/27/06/837436d4c3bd989b957a91679966f207bfd71d358d63a8194d\n",
            "Successfully built python-docx\n",
            "Installing collected packages: python-docx\n",
            "Successfully installed python-docx-0.8.11\n"
          ]
        }
      ]
    },
    {
      "cell_type": "code",
      "source": [
        "import csv\n",
        "import docx\n",
        "\n",
        "# Open the document\n",
        "doc = docx.Document('/content/sample.docx')\n",
        "\n",
        "# Extract text from the document\n",
        "text = []\n",
        "for para in doc.paragraphs:\n",
        "    text.append(para.text)\n",
        "\n",
        "# Extract tables from the document\n",
        "tables = []\n",
        "for table in doc.tables:\n",
        "    for row in table.rows:\n",
        "        for cell in row.cells:\n",
        "            tables.append(cell.text)\n",
        "\n",
        "# Extract images from the document\n",
        "images = []\n",
        "for element in doc.element.body:\n",
        "    if element.tag.endswith('graphic'):\n",
        "        images.append(element)\n",
        "\n",
        "# Extract bullets from the document\n",
        "bullets = []\n",
        "for para in doc.paragraphs:\n",
        "    if para.style.name.startswith('List'):\n",
        "        for run in para.runs:\n",
        "            if run.text:\n",
        "                bullets.append(run.text)\n",
        "\n",
        "# Extract header and footer information\n",
        "header = doc.sections[0].header\n",
        "footer = doc.sections[0].footer\n",
        "\n",
        "# Extract color and font information\n",
        "colors = set()\n",
        "fonts = set()\n",
        "\n",
        "for paragraph in doc.paragraphs:\n",
        "    for run in paragraph.runs:\n",
        "        colors.add(run.font.color.rgb)\n",
        "        fonts.add(run.font.name)\n",
        "\n",
        "# Write the extracted information to a CSV file\n",
        "with open('extracted_info.csv', mode='w', newline='') as file:\n",
        "    writer = csv.writer(file)\n",
        "    writer.writerow(['Text', 'Tables', 'Images', 'Bullets', 'Header', 'Footer', 'Colors', 'Fonts'])\n",
        "    writer.writerow([text, tables, images, bullets, header, footer, colors, fonts])\n"
      ],
      "metadata": {
        "id": "RRDWzkxTPdFr"
      },
      "execution_count": 11,
      "outputs": []
    },
    {
      "cell_type": "code",
      "source": [
        "import csv\n",
        "import docx\n",
        "\n",
        "# Open the document\n",
        "doc = docx.Document('/content/sample.docx')\n",
        "\n",
        "# Define a function to extract the text content of each page\n",
        "def extract_page_content(section):\n",
        "    page_content = ''\n",
        "    for element in section._element:\n",
        "        if element.tag.endswith('p'):\n",
        "            for run in element.iter():\n",
        "                if run.text:\n",
        "                    page_content += run.text\n",
        "            page_content += '\\n'\n",
        "    return page_content.strip()\n",
        "\n",
        "# Extract the information from the document\n",
        "pages = []\n",
        "for i, section in enumerate(doc.sections):\n",
        "    page_num = i + 1\n",
        "    page_content = extract_page_content(section)\n",
        "    pages.append([page_num, page_content])\n",
        "\n",
        "# Write the extracted information to a CSV file\n",
        "with open('extracted_info.csv', mode='w', newline='', encoding='utf-8') as file:\n",
        "    writer = csv.writer(file)\n",
        "    writer.writerow(['Page Number', 'Content'])\n",
        "    writer.writerows(pages)\n"
      ],
      "metadata": {
        "colab": {
          "base_uri": "https://localhost:8080/",
          "height": 356
        },
        "id": "2uE98FUCTRL9",
        "outputId": "392c1e0c-7a5b-4b68-d69a-96ea85266e15"
      },
      "execution_count": 10,
      "outputs": [
        {
          "output_type": "error",
          "ename": "AttributeError",
          "evalue": "ignored",
          "traceback": [
            "\u001b[0;31m---------------------------------------------------------------------------\u001b[0m",
            "\u001b[0;31mAttributeError\u001b[0m                            Traceback (most recent call last)",
            "\u001b[0;32m<ipython-input-10-0dc49175d993>\u001b[0m in \u001b[0;36m<cell line: 20>\u001b[0;34m()\u001b[0m\n\u001b[1;32m     20\u001b[0m \u001b[0;32mfor\u001b[0m \u001b[0mi\u001b[0m\u001b[0;34m,\u001b[0m \u001b[0msection\u001b[0m \u001b[0;32min\u001b[0m \u001b[0menumerate\u001b[0m\u001b[0;34m(\u001b[0m\u001b[0mdoc\u001b[0m\u001b[0;34m.\u001b[0m\u001b[0msections\u001b[0m\u001b[0;34m)\u001b[0m\u001b[0;34m:\u001b[0m\u001b[0;34m\u001b[0m\u001b[0;34m\u001b[0m\u001b[0m\n\u001b[1;32m     21\u001b[0m     \u001b[0mpage_num\u001b[0m \u001b[0;34m=\u001b[0m \u001b[0mi\u001b[0m \u001b[0;34m+\u001b[0m \u001b[0;36m1\u001b[0m\u001b[0;34m\u001b[0m\u001b[0;34m\u001b[0m\u001b[0m\n\u001b[0;32m---> 22\u001b[0;31m     \u001b[0mpage_content\u001b[0m \u001b[0;34m=\u001b[0m \u001b[0mextract_page_content\u001b[0m\u001b[0;34m(\u001b[0m\u001b[0msection\u001b[0m\u001b[0;34m)\u001b[0m\u001b[0;34m\u001b[0m\u001b[0;34m\u001b[0m\u001b[0m\n\u001b[0m\u001b[1;32m     23\u001b[0m     \u001b[0mpages\u001b[0m\u001b[0;34m.\u001b[0m\u001b[0mappend\u001b[0m\u001b[0;34m(\u001b[0m\u001b[0;34m[\u001b[0m\u001b[0mpage_num\u001b[0m\u001b[0;34m,\u001b[0m \u001b[0mpage_content\u001b[0m\u001b[0;34m]\u001b[0m\u001b[0;34m)\u001b[0m\u001b[0;34m\u001b[0m\u001b[0;34m\u001b[0m\u001b[0m\n\u001b[1;32m     24\u001b[0m \u001b[0;34m\u001b[0m\u001b[0m\n",
            "\u001b[0;32m<ipython-input-10-0dc49175d993>\u001b[0m in \u001b[0;36mextract_page_content\u001b[0;34m(section)\u001b[0m\n\u001b[1;32m      8\u001b[0m \u001b[0;32mdef\u001b[0m \u001b[0mextract_page_content\u001b[0m\u001b[0;34m(\u001b[0m\u001b[0msection\u001b[0m\u001b[0;34m)\u001b[0m\u001b[0;34m:\u001b[0m\u001b[0;34m\u001b[0m\u001b[0;34m\u001b[0m\u001b[0m\n\u001b[1;32m      9\u001b[0m     \u001b[0mpage_content\u001b[0m \u001b[0;34m=\u001b[0m \u001b[0;34m''\u001b[0m\u001b[0;34m\u001b[0m\u001b[0;34m\u001b[0m\u001b[0m\n\u001b[0;32m---> 10\u001b[0;31m     \u001b[0;32mfor\u001b[0m \u001b[0melement\u001b[0m \u001b[0;32min\u001b[0m \u001b[0msection\u001b[0m\u001b[0;34m.\u001b[0m\u001b[0m_element\u001b[0m\u001b[0;34m:\u001b[0m\u001b[0;34m\u001b[0m\u001b[0;34m\u001b[0m\u001b[0m\n\u001b[0m\u001b[1;32m     11\u001b[0m         \u001b[0;32mif\u001b[0m \u001b[0melement\u001b[0m\u001b[0;34m.\u001b[0m\u001b[0mtag\u001b[0m\u001b[0;34m.\u001b[0m\u001b[0mendswith\u001b[0m\u001b[0;34m(\u001b[0m\u001b[0;34m'p'\u001b[0m\u001b[0;34m)\u001b[0m\u001b[0;34m:\u001b[0m\u001b[0;34m\u001b[0m\u001b[0;34m\u001b[0m\u001b[0m\n\u001b[1;32m     12\u001b[0m             \u001b[0;32mfor\u001b[0m \u001b[0mrun\u001b[0m \u001b[0;32min\u001b[0m \u001b[0melement\u001b[0m\u001b[0;34m.\u001b[0m\u001b[0miter\u001b[0m\u001b[0;34m(\u001b[0m\u001b[0;34m)\u001b[0m\u001b[0;34m:\u001b[0m\u001b[0;34m\u001b[0m\u001b[0;34m\u001b[0m\u001b[0m\n",
            "\u001b[0;31mAttributeError\u001b[0m: 'Section' object has no attribute '_element'"
          ]
        }
      ]
    },
    {
      "cell_type": "code",
      "source": [
        "#the correct code to extract meta data"
      ],
      "metadata": {
        "id": "ue_mMIEuWake"
      },
      "execution_count": null,
      "outputs": []
    },
    {
      "cell_type": "code",
      "source": [
        "import csv\n",
        "import docx\n",
        "from docx.oxml import OxmlElement\n",
        "from docx.oxml.ns import qn\n",
        "\n",
        "# Open the document\n",
        "doc = docx.Document('/content/sample.docx')\n",
        "\n",
        "# Extract text from the document\n",
        "text = []\n",
        "for para in doc.paragraphs:\n",
        "    text.append(para.text)\n",
        "\n",
        "# Extract tables from the document\n",
        "tables = []\n",
        "for table in doc.tables:\n",
        "    for row in table.rows:\n",
        "        for cell in row.cells:\n",
        "            tables.append(cell.text)\n",
        "\n",
        "# Extract images from the document\n",
        "images = []\n",
        "for element in doc.element.body:\n",
        "    if element.tag.endswith('graphic'):\n",
        "        images.append(element)\n",
        "\n",
        "# Extract bullets from the document\n",
        "bullets = []\n",
        "for para in doc.paragraphs:\n",
        "    if para.style.name.startswith('List'):\n",
        "        for run in para.runs:\n",
        "            if run.text:\n",
        "                bullets.append(run.text)\n",
        "\n",
        "# Extract header and footer information\n",
        "header = doc.sections[0].header\n",
        "footer = doc.sections[0].footer\n",
        "\n",
        "# Extract color and font information\n",
        "colors = set()\n",
        "fonts = set()\n",
        "\n",
        "for paragraph in doc.paragraphs:\n",
        "    for run in paragraph.runs:\n",
        "        colors.add(run.font.color.rgb)\n",
        "        fonts.add(run.font.name)\n",
        "\n",
        "# Write the extracted information to a CSV file\n",
        "with open('extracted_info.csv', mode='w', newline='') as file:\n",
        "    writer = csv.writer(file)\n",
        "    writer.writerow(['Text', 'Tables', 'Images', 'Bullets', 'Header', 'Footer', 'Colors', 'Fonts', 'Page Number'])\n",
        "    for i, para in enumerate(doc.paragraphs):\n",
        "        row = []\n",
        "        if i == 0 or i == len(doc.paragraphs) - 1:\n",
        "            row.append('')\n",
        "        else:\n",
        "            row.append(text[i - 1])\n",
        "        row.append('')\n",
        "        row.append('')\n",
        "        row.append('')\n",
        "        row.append(header)\n",
        "        row.append(footer)\n",
        "        row.append(colors)\n",
        "        row.append(fonts)\n",
        "        row.append(len(para._element.xpath('.//w:t')))\n",
        "        writer.writerow(row)\n",
        "    for i, table in enumerate(doc.tables):\n",
        "        row = [''] * 9\n",
        "        row[1] = tables[i]\n",
        "        row[8] = len(table._element.xpath('.//w:t'))\n",
        "        writer.writerow(row)\n"
      ],
      "metadata": {
        "id": "7zFAdzVqVYhB"
      },
      "execution_count": 16,
      "outputs": []
    }
  ]
}