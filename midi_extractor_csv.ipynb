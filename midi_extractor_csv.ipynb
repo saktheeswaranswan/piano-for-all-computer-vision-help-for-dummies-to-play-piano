{
  "nbformat": 4,
  "nbformat_minor": 0,
  "metadata": {
    "colab": {
      "provenance": [],
      "authorship_tag": "ABX9TyOLnWx5fHQh+zcpbfYHbI54",
      "include_colab_link": true
    },
    "kernelspec": {
      "name": "python3",
      "display_name": "Python 3"
    },
    "language_info": {
      "name": "python"
    }
  },
  "cells": [
    {
      "cell_type": "markdown",
      "metadata": {
        "id": "view-in-github",
        "colab_type": "text"
      },
      "source": [
        "<a href=\"https://colab.research.google.com/github/saktheeswaranswan/piano-for-all-computer-vision-help-for-dummies-to-play-piano/blob/main/midi_extractor_csv.ipynb\" target=\"_parent\"><img src=\"https://colab.research.google.com/assets/colab-badge.svg\" alt=\"Open In Colab\"/></a>"
      ]
    },
    {
      "cell_type": "code",
      "source": [
        "!pip install mido\n"
      ],
      "metadata": {
        "colab": {
          "base_uri": "https://localhost:8080/"
        },
        "id": "gYDh9qNjVfP1",
        "outputId": "34dee40c-cdaf-44a7-d5e9-46c19fb79dd6"
      },
      "execution_count": 2,
      "outputs": [
        {
          "output_type": "stream",
          "name": "stdout",
          "text": [
            "Looking in indexes: https://pypi.org/simple, https://us-python.pkg.dev/colab-wheels/public/simple/\n",
            "Collecting mido\n",
            "  Downloading mido-1.2.10-py2.py3-none-any.whl (51 kB)\n",
            "\u001b[2K     \u001b[90m━━━━━━━━━━━━━━━━━━━━━━━━━━━━━━━━━━━━━━━━\u001b[0m \u001b[32m51.1/51.1 KB\u001b[0m \u001b[31m4.9 MB/s\u001b[0m eta \u001b[36m0:00:00\u001b[0m\n",
            "\u001b[?25hInstalling collected packages: mido\n",
            "Successfully installed mido-1.2.10\n"
          ]
        }
      ]
    },
    {
      "cell_type": "code",
      "execution_count": 5,
      "metadata": {
        "id": "j2PtEVSIVLnm"
      },
      "outputs": [],
      "source": [
        "import mido\n",
        "import csv\n",
        "\n",
        "# Set the file name and track number to extract notes from\n",
        "file_name = '/content/xdffdgf.mid'\n",
        "track_num = 0\n",
        "\n",
        "# Open the MIDI file and select the desired track\n",
        "midi_file = mido.MidiFile(file_name)\n",
        "track = midi_file.tracks[track_num]\n",
        "\n",
        "# Define a list to hold the extracted notes and their durations\n",
        "notes = []\n",
        "\n",
        "# Iterate through each MIDI message in the track\n",
        "for msg in track:\n",
        "    # Check if the message is a Note On event with a nonzero velocity (i.e. the note is being played)\n",
        "    if msg.type == 'note_on' and msg.velocity != 0:\n",
        "        # Append a tuple containing the note value and its duration (in ticks) to the notes list\n",
        "        notes.append((msg.note, msg.time))\n",
        "\n",
        "# Find the tempo message that sets the tempo of the MIDI file\n",
        "tempo = None\n",
        "for msg in midi_file:\n",
        "    if msg.type == 'set_tempo':\n",
        "        tempo = msg.tempo\n",
        "        break\n",
        "\n",
        "# Convert the tick values to seconds based on the tempo (in microseconds per quarter note) of the MIDI file\n",
        "if tempo is not None:\n",
        "    tempo = mido.tempo2bpm(tempo)\n",
        "    tempo = 60 / tempo\n",
        "    notes = [(note, duration * tempo) for note, duration in notes]\n",
        "    #notes = [(note, duration * tempo * 1000) for note, duration in notes]\n",
        "\n",
        "# Write the notes list to a CSV file\n",
        "with open('notes.csv', 'w', newline='') as csvfile:\n",
        "    writer = csv.writer(csvfile)\n",
        "    writer.writerow(['Note', 'Duration'])\n",
        "    for note, duration in notes:\n",
        "        writer.writerow([note, duration])\n"
      ]
    },
    {
      "cell_type": "code",
      "source": [
        "#rest without tempo"
      ],
      "metadata": {
        "id": "X3ScFH2UXQO9"
      },
      "execution_count": null,
      "outputs": []
    },
    {
      "cell_type": "code",
      "source": [
        "import mido\n",
        "import csv\n",
        "\n",
        "# Set the file name and track number to extract notes from\n",
        "file_name = 'example.mid'\n",
        "track_num = 0\n",
        "\n",
        "# Open the MIDI file and select the desired track\n",
        "midi_file = mido.MidiFile(file_name)\n",
        "track = midi_file.tracks[track_num]\n",
        "\n",
        "# Define a list to hold the extracted notes and their durations\n",
        "notes = []\n",
        "\n",
        "# Iterate through each MIDI message in the track\n",
        "for msg in track:\n",
        "    # Check if the message is a Note On event with a nonzero velocity (i.e. the note is being played)\n",
        "    if msg.type == 'note_on' and msg.velocity != 0:\n",
        "        # Append a tuple containing the note value and its duration (in ticks) to the notes list\n",
        "        notes.append((msg.note, msg.time))\n",
        "\n",
        "# Convert the tick values to seconds based on the tempo (in microseconds per quarter note) of the MIDI file\n",
        "tempo = midi_file.tracks[0][0].tempo\n",
        "tempo = mido.tempo2bpm(tempo)\n",
        "tempo = 60 / tempo\n",
        "notes = [(note, duration * tempo) for note, duration in notes]\n",
        "\n",
        "# Write the notes list to a CSV file\n",
        "with open('notes.csv', 'w', newline='') as csvfile:\n",
        "    writer = csv.writer(csvfile)\n",
        "    writer.writerow(['Note', 'Duration'])\n",
        "    for note, duration in notes:\n",
        "        writer.writerow([note, duration])\n"
      ],
      "metadata": {
        "id": "h2cxy7MYXR-k"
      },
      "execution_count": null,
      "outputs": []
    },
    {
      "cell_type": "code",
      "source": [
        "import mido\n",
        "import csv\n",
        "\n",
        "# Set the file name and track number to extract notes from\n",
        "file_name = 'example.mid'\n",
        "track_num = 0\n",
        "\n",
        "# Open the MIDI file and select the desired track\n",
        "midi_file = mido.MidiFile(file_name)\n",
        "track = midi_file.tracks[track_num]\n",
        "\n",
        "# Define a list to hold the extracted notes and their durations\n",
        "notes = []\n",
        "\n",
        "# Iterate through each MIDI message in the track\n",
        "for msg in track:\n",
        "    # Check if the message is a Note On event with a nonzero velocity (i.e. the note is being played)\n",
        "    if msg.type == 'note_on' and msg.velocity != 0:\n",
        "        # Append a tuple containing the note value and its duration (in ticks) to the notes list\n",
        "        notes.append((msg.note, msg.time))\n",
        "\n",
        "# Convert the tick values to seconds based on the tempo (in microseconds per quarter note) of the MIDI file\n",
        "tempo = midi_file.ticks_per_beat * 500000 / midi_file.tempo\n",
        "notes = [(note, duration * tempo) for note, duration in notes]\n",
        "\n",
        "# Write the notes list to a CSV file\n",
        "with open('notes.csv', 'w', newline='') as csvfile:\n",
        "    writer = csv.writer(csvfile)\n",
        "    writer.writerow(['Note', 'Duration'])\n",
        "    for note, duration in notes:\n",
        "        writer.writerow([note, duration])\n"
      ],
      "metadata": {
        "id": "N8-nfj3xXSzh"
      },
      "execution_count": null,
      "outputs": []
    }
  ]
}